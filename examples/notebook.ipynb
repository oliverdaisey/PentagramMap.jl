{
 "cells": [
  {
   "cell_type": "code",
   "execution_count": null,
   "id": "7d864279",
   "metadata": {},
   "outputs": [],
   "source": [
    "using PentagramMap\n",
    "\n",
    "println(\"Hello, PentagramMap!\")"
   ]
  }
 ],
 "metadata": {
  "kernelspec": {
   "display_name": "Julia 1.11.4",
   "language": "julia",
   "name": "julia-1.11"
  },
  "language_info": {
   "file_extension": ".jl",
   "mimetype": "application/julia",
   "name": "julia",
   "version": "1.11.4"
  }
 },
 "nbformat": 4,
 "nbformat_minor": 5
}
